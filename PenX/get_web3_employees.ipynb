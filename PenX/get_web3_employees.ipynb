{
 "cells": [
  {
   "cell_type": "code",
   "execution_count": null,
   "metadata": {},
   "outputs": [],
   "source": [
    "import requests\n",
    "from collections import Counter\n",
    "from web3 import Web3, HTTPProvider\n",
    "connection = Web3(HTTPProvider('https://mainnet.infura.io/v3/6873c06628bc4c50af981c610f2f0fc1'))\n",
    "current_block = connection.eth.blockNumber\n",
    "print (\"Latest Ethereum block number\", current_block)"
   ]
  },
  {
   "cell_type": "code",
   "execution_count": null,
   "metadata": {},
   "outputs": [],
   "source": [
    "number_of_blocks = 100 #ca 5400 blocks per day so 5400 * 30 162'000 blocks per month\n",
    "starting_block = current_block - number_of_blocks\n",
    "\n",
    "candidates_dict = {}\n",
    "\n",
    "for i in range(number_of_blocks):\n",
    "    # print(i, \" of \", number_of_blocks)\n",
    "    block_number = starting_block - i\n",
    "    block = connection.eth.get_block(block_number)\n",
    "    hex_transaction_hashes = block[\"transactions\"]\n",
    "\n",
    "    for i in hex_transaction_hashes:\n",
    "        transaction_hash = i.hex() \n",
    "        transaction = connection.eth.get_transaction(transaction_hash)\n",
    "        value = transaction[\"value\"] / (10**18)\n",
    "        if (value > 0.2):\n",
    "            receiver = transaction[\"to\"] \n",
    "            if (receiver in candidates_dict):\n",
    "                list = candidates_dict[receiver]\n",
    "                list.append(value)\n",
    "                candidates_dict[receiver] = list\n",
    "            else:\n",
    "                candidates_dict[receiver] = [value]\n",
    "            \n",
    "\n",
    "# candidates_dict"
   ]
  },
  {
   "cell_type": "code",
   "execution_count": null,
   "metadata": {},
   "outputs": [],
   "source": [
    "all_info_for_addresses = []\n",
    "transactions_from_most_common_sender_for_addresses = []\n",
    "\n",
    "most_common_sender_per_address = []\n",
    "\n",
    "counter = len(candidates_dict)\n",
    "updates = 0\n",
    "\n",
    "for address in candidates_dict.keys():\n",
    "    print(updates, \" of \", counter)\n",
    "    updates += 1\n",
    "    try:\n",
    "        url = f\"https://api.covalenthq.com/v1/1/address/{address}/transactions_v2/?quote-currency=USD&page-size=150&key=ckey_06de8b133f2948eb88f41f10539\"\n",
    "        res = requests.get(url).json()\n",
    "\n",
    "        transactions = res[\"data\"][\"items\"]\n",
    "        transactions_cleaned = []\n",
    "        sender_addresses = []\n",
    "\n",
    "        num_transaction_in_22 = len([1 for x in transactions if x[\"block_signed_at\"][0:4] == \"2022\"])\n",
    "        if (num_transaction_in_22 > 100):\n",
    "            #print(\"skipping\")\n",
    "            continue\n",
    "\n",
    "        for trans in transactions:\n",
    "            if(trans[\"value_quote\"] is not None and trans[\"value_quote\"] > 100 and trans[\"from_address\"] != address):\n",
    "                sender_addresses.append(trans[\"from_address\"])\n",
    "                transactions_cleaned.append({\"timestamp\": trans[\"block_signed_at\"], \"from\": trans[\"from_address\"], \"from_label\": trans[\"from_address_label\"], \"value\": float(trans[\"value\"]) / (10**18), \"valueUSD\": trans[\"value_quote\"]})\n",
    "\n",
    "        all_info_for_addresses.append({\"address\": address, \"data\": transactions_cleaned})\n",
    "\n",
    "        c = Counter(sender_addresses)\n",
    "        most_common_address = c.most_common(1)[0][0]\n",
    "\n",
    "        transactions_from_most_common_sender = []\n",
    "        year_months = []\n",
    "        for trans in transactions_cleaned:\n",
    "            if (trans[\"from\"] == most_common_address):\n",
    "                transactions_from_most_common_sender.append(trans)\n",
    "                year_months.append(trans[\"timestamp\"][0:7])\n",
    "\n",
    "        if (len(set(year_months)) >= 10):\n",
    "            transactions_from_most_common_sender_for_addresses.append({\"address\": address, \"data\": transactions_from_most_common_sender})\n",
    "            most_common_sender_per_address.append({\"address\": address, \"payer_data\": c.most_common(1)})\n",
    "\n",
    "        #print(transactions_from_most_common_sender)\n",
    "        #print(most_common_sender_per_address)\n",
    "\n",
    "        if (counter == 0):\n",
    "            break\n",
    "        else:\n",
    "            print(counter)\n",
    "    except:\n",
    "        print(\"error came up - continuing\")\n",
    "        continue"
   ]
  },
  {
   "cell_type": "code",
   "execution_count": null,
   "metadata": {},
   "outputs": [],
   "source": [
    "most_common_sender_per_address"
   ]
  }
 ],
 "metadata": {
  "kernelspec": {
   "display_name": "Python 3.9.12 ('base')",
   "language": "python",
   "name": "python3"
  },
  "language_info": {
   "codemirror_mode": {
    "name": "ipython",
    "version": 3
   },
   "file_extension": ".py",
   "mimetype": "text/x-python",
   "name": "python",
   "nbconvert_exporter": "python",
   "pygments_lexer": "ipython3",
   "version": "3.9.12"
  },
  "orig_nbformat": 4,
  "vscode": {
   "interpreter": {
    "hash": "56941cacf15e8b05765996006082865469347c2b4cdce983108d1335de8b4245"
   }
  }
 },
 "nbformat": 4,
 "nbformat_minor": 2
}
