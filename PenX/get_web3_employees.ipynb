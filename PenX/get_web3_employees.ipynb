{
 "cells": [
  {
   "cell_type": "code",
   "execution_count": 1,
   "metadata": {},
   "outputs": [
    {
     "name": "stdout",
     "output_type": "stream",
     "text": [
      "Latest Ethereum block number 15149652\n"
     ]
    }
   ],
   "source": [
    "import requests\n",
    "from collections import Counter\n",
    "from web3 import Web3, HTTPProvider\n",
    "connection = Web3(HTTPProvider('https://mainnet.infura.io/v3/6873c06628bc4c50af981c610f2f0fc1'))\n",
    "current_block = connection.eth.blockNumber\n",
    "print (\"Latest Ethereum block number\", current_block)\n",
    "import datetime as dt\n",
    "import statistics\n",
    "import time\n",
    "import numpy as np"
   ]
  },
  {
   "cell_type": "code",
   "execution_count": 5,
   "metadata": {},
   "outputs": [],
   "source": [
    "number_of_blocks = 1 #ca 5400 blocks per day so 5400 * 30 = 162'000 blocks per month\n",
    "starting_block = current_block - number_of_blocks\n",
    "min_wages = 0.3\n",
    "\n",
    "candidates_dict = {}\n",
    "most_common_sender_per_address = np.load('./data/most_common_sender_per_address.npy')\n",
    "previous_addresses = [x['address'] for x in most_common_sender_per_address]\n",
    "\n",
    "\n",
    "for i in range(number_of_blocks):\n",
    "    # print(i, \" of \", number_of_blocks)\n",
    "    block_number = starting_block - i\n",
    "    block = connection.eth.get_block(block_number)\n",
    "    hex_transaction_hashes = block[\"transactions\"]\n",
    "\n",
    "    for i in hex_transaction_hashes:\n",
    "        transaction_hash = i.hex() \n",
    "        transaction = connection.eth.get_transaction(transaction_hash)\n",
    "        value = transaction[\"value\"] / (10**18)\n",
    "        receiver = transaction[\"to\"] \n",
    "        if (value > min_wages and receiver not in previous_addresses):\n",
    "            if (receiver in candidates_dict):\n",
    "                list = candidates_dict[receiver]\n",
    "                list.append(value)\n",
    "                candidates_dict[receiver] = list\n",
    "            else:\n",
    "                candidates_dict[receiver] = [value]\n",
    "\n",
    "# candidates_dict"
   ]
  },
  {
   "cell_type": "code",
   "execution_count": null,
   "metadata": {},
   "outputs": [],
   "source": [
    "all_info_for_addresses = []\n",
    "transactions_from_most_common_sender_for_addresses = []\n",
    "\n",
    "counter = len(candidates_dict)\n",
    "updates = 0\n",
    "std_avg_ratio = 0.1\n",
    "\n",
    "for address in candidates_dict.keys():\n",
    "    print(updates, \" of \", counter)\n",
    "    updates += 1\n",
    "    try:\n",
    "        url = f\"https://api.covalenthq.com/v1/1/address/{address}/transactions_v2/?quote-currency=USD&page-size=150&key=ckey_06de8b133f2948eb88f41f10539\"\n",
    "        res = requests.get(url).json()\n",
    "\n",
    "        transactions = res[\"data\"][\"items\"]\n",
    "        transactions_cleaned = []\n",
    "        sender_addresses = []\n",
    "\n",
    "        num_transaction_in_22 = len([1 for x in transactions if x[\"block_signed_at\"][0:4] == \"2022\"])\n",
    "        if (num_transaction_in_22 > 100):\n",
    "            continue\n",
    "\n",
    "        for trans in transactions:\n",
    "            if(trans[\"value_quote\"] is not None and trans[\"value_quote\"] > 100 and trans[\"from_address\"] != address):\n",
    "                sender_addresses.append(trans[\"from_address\"])\n",
    "                transactions_cleaned.append({\"timestamp\": trans[\"block_signed_at\"], \"from\": trans[\"from_address\"], \"from_label\": trans[\"from_address_label\"], \"value\": float(trans[\"value\"]) / (10**18), \"valueUSD\": trans[\"value_quote\"]})\n",
    "\n",
    "        all_info_for_addresses.append({\"address\": address, \"data\": transactions_cleaned})\n",
    "\n",
    "        c = Counter(sender_addresses)\n",
    "        most_common_address = c.most_common(1)[0][0]\n",
    "\n",
    "        transactions_from_most_common_sender = []\n",
    "        year_months = []\n",
    "        # transactions_cleaned.sort(key=lambda x: time.mktime(dt.datetime(int(x['timestamp'][0:4]),\n",
    "        #         int(x['timestamp'][5:7]),\n",
    "        #         int(x['timestamp'][8:10]),\n",
    "        #         int(x['timestamp'][11:13]),\n",
    "        #         int(x['timestamp'][14:16])).timetuple()))\n",
    "        transactions_cleaned.sort(key=lambda x: int(x[0:4] + x[5:7] + x[8:10] + x[11:13] + x[14:16]))\n",
    "        print('finally sorted')\n",
    "        last_tx = transactions_cleaned[0]\n",
    "        time_gaps = []\n",
    "        for i, trans in enumerate(transactions_cleaned):\n",
    "            if (trans[\"from\"] == most_common_address):\n",
    "                transactions_from_most_common_sender.append(trans)\n",
    "                year_months.append(trans[\"timestamp\"][0:7])\n",
    "                print(last_tx['timestamp'])\n",
    "                date1 = dt.datetime(int(last_tx['timestamp'][0:4]),\n",
    "                        int(last_tx['timestamp'][5:7]),\n",
    "                        int(last_tx['timestamp'][8:10]),\n",
    "                        int(last_tx['timestamp'][11:13]),\n",
    "                        int(last_tx['timestamp'][14:16]))\n",
    "                date2 = dt.datetime(int(trans['timestamp'][0:4]),\n",
    "                        int(trans['timestamp'][5:7]),\n",
    "                        int(trans['timestamp'][8:10]),\n",
    "                        int(trans['timestamp'][11:13]),\n",
    "                        int(trans['timestamp'][14:16]))\n",
    "                time_gaps.append((date2-date1).total_seconds())\n",
    "                last_tx = trans\n",
    "        avg = statistics.mean(time_gaps)\n",
    "        std = statistics.stdev(time_gaps)\n",
    "        print(f'Avg: {avg}, std: {std}')\n",
    "\n",
    "        if (len(set(year_months)) >= 10 & avg > 0 and std / avg < std_avg_ratio):\n",
    "            transactions_from_most_common_sender_for_addresses.append({\"address\": address, \"data\": transactions_from_most_common_sender})\n",
    "            most_common_sender_per_address.append({\"address\": address, \"payer_data\": c.most_common(1)})\n",
    "        elif not (avg > 0 and std / avg < 0.1):\n",
    "            print(\"Address\", address, \"is too different from the average\")\n",
    "\n",
    "\n",
    "        if (counter == 0):\n",
    "            break\n",
    "        else:\n",
    "            print(counter)\n",
    "    except:\n",
    "        print(\"error came up - continuing\")\n",
    "        continue"
   ]
  },
  {
   "cell_type": "code",
   "execution_count": 4,
   "metadata": {},
   "outputs": [
    {
     "data": {
      "text/plain": [
       "[]"
      ]
     },
     "execution_count": 4,
     "metadata": {},
     "output_type": "execute_result"
    }
   ],
   "source": [
    "most_common_sender_per_address"
   ]
  },
  {
   "cell_type": "code",
   "execution_count": 10,
   "metadata": {},
   "outputs": [],
   "source": [
    "np.save('./data/most_common_sender_per_address', most_common_sender_per_address)\n",
    "np.save('./data/transactions_from_most_common_sender_for_addresses', transactions_from_most_common_sender_for_addresses)\n",
    "#most_common_sender_per_address = np.load('./data/most_common_sender_per_address.npz')\n",
    "#transactions_from_most_common_sender_for_addresses = np.load('./data/transactions_from_most_common_sender_for_addresses.npz')"
   ]
  }
 ],
 "metadata": {
  "kernelspec": {
   "display_name": "Python 3.9.12 ('web3')",
   "language": "python",
   "name": "python3"
  },
  "language_info": {
   "codemirror_mode": {
    "name": "ipython",
    "version": 3
   },
   "file_extension": ".py",
   "mimetype": "text/x-python",
   "name": "python",
   "nbconvert_exporter": "python",
   "pygments_lexer": "ipython3",
   "version": "3.9.12"
  },
  "orig_nbformat": 4,
  "vscode": {
   "interpreter": {
    "hash": "b2522a7ac3b60f852504f7e2e80aa0b42867087115d2f979bf28cdf9a03dea8d"
   }
  }
 },
 "nbformat": 4,
 "nbformat_minor": 2
}
